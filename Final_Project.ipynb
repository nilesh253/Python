{
 "cells": [
  {
   "cell_type": "code",
   "execution_count": 1,
   "id": "13ee8b15",
   "metadata": {},
   "outputs": [],
   "source": [
    "import numpy as np\n",
    "import pandas as pd\n",
    "import matplotlib.pyplot as plt\n",
    "import seaborn as sns"
   ]
  },
  {
   "cell_type": "code",
   "execution_count": null,
   "id": "ed3f6e2e",
   "metadata": {},
   "outputs": [],
   "source": [
    "df = pd.read_csv('911.csv')\n",
    "df.head()"
   ]
  },
  {
   "cell_type": "code",
   "execution_count": null,
   "id": "ea60cb4c",
   "metadata": {},
   "outputs": [],
   "source": [
    "df.info()"
   ]
  },
  {
   "cell_type": "code",
   "execution_count": null,
   "id": "9a15701b",
   "metadata": {},
   "outputs": [],
   "source": [
    "df.isnull().sum()"
   ]
  },
  {
   "cell_type": "code",
   "execution_count": null,
   "id": "c0dbf9e1",
   "metadata": {},
   "outputs": [],
   "source": [
    "df_wrang_zip = df[pd.notnull(df['zip'])]\n",
    "df_wrang_zip.isnull().sum()"
   ]
  },
  {
   "cell_type": "code",
   "execution_count": null,
   "id": "b5726bc2",
   "metadata": {},
   "outputs": [],
   "source": [
    "df_wrang = df_wrang_zip[pd.notnull(df_wrang_zip['twp'])]\n",
    "df_wrang.isnull().sum()"
   ]
  },
  {
   "cell_type": "code",
   "execution_count": null,
   "id": "25b798c3",
   "metadata": {},
   "outputs": [],
   "source": [
    "df_wrang.info()"
   ]
  },
  {
   "cell_type": "code",
   "execution_count": null,
   "id": "daab18df",
   "metadata": {},
   "outputs": [],
   "source": [
    "df_wrang.head()"
   ]
  },
  {
   "cell_type": "code",
   "execution_count": null,
   "id": "0fefdc12",
   "metadata": {},
   "outputs": [],
   "source": [
    "df_wrang['zip'].value_counts().head(10)"
   ]
  },
  {
   "cell_type": "code",
   "execution_count": null,
   "id": "039cbf41",
   "metadata": {},
   "outputs": [],
   "source": [
    "df_wrang['twp'].value_counts().head(4)"
   ]
  },
  {
   "cell_type": "code",
   "execution_count": null,
   "id": "48c14060",
   "metadata": {},
   "outputs": [],
   "source": [
    "df_wrang['title'].nunique()"
   ]
  },
  {
   "cell_type": "code",
   "execution_count": null,
   "id": "de1ea460",
   "metadata": {},
   "outputs": [],
   "source": [
    "df_wrang['Department']=df_wrang['title'].apply(lambda val:val.split(':')[1])\n",
    "df_wrang['Reason']=df_wrang['title'].apply(lambda val:val.split(':')[0])\n",
    "df_wrang.head()"
   ]
  },
  {
   "cell_type": "code",
   "execution_count": null,
   "id": "0a3b26a6",
   "metadata": {},
   "outputs": [],
   "source": [
    "df_wrang['Reason'].unique()"
   ]
  },
  {
   "cell_type": "code",
   "execution_count": null,
   "id": "92655e2b",
   "metadata": {},
   "outputs": [],
   "source": [
    "df_wrang['Department'].unique()"
   ]
  },
  {
   "cell_type": "code",
   "execution_count": null,
   "id": "06e2f4c3",
   "metadata": {},
   "outputs": [],
   "source": [
    "df_wrang['Reason'].value_counts()[:3]"
   ]
  },
  {
   "cell_type": "code",
   "execution_count": null,
   "id": "c26f3bd5",
   "metadata": {},
   "outputs": [],
   "source": [
    "sns.countplot(x=df_wrang['Reason'])"
   ]
  },
  {
   "cell_type": "code",
   "execution_count": null,
   "id": "b847f10a",
   "metadata": {},
   "outputs": [],
   "source": [
    "df_wrang['Department'].value_counts().head(5)"
   ]
  },
  {
   "cell_type": "code",
   "execution_count": null,
   "id": "c8cc8d85",
   "metadata": {},
   "outputs": [],
   "source": [
    "df_wrang.groupby('Department').count().sort_values('e',ascending=0)[:5]['e'].plot(kind='barh')"
   ]
  },
  {
   "cell_type": "code",
   "execution_count": null,
   "id": "f3709521",
   "metadata": {},
   "outputs": [],
   "source": [
    "df_wrang['twp'].value_counts()[:5]"
   ]
  },
  {
   "cell_type": "code",
   "execution_count": null,
   "id": "eb4f2f2c",
   "metadata": {},
   "outputs": [],
   "source": [
    "df_wrang.groupby('twp').count().sort_values('e',ascending=0)[:5]['e'].plot(kind='barh')"
   ]
  },
  {
   "cell_type": "code",
   "execution_count": null,
   "id": "7c463cec",
   "metadata": {},
   "outputs": [],
   "source": [
    "df_wrang['twp'].value_counts()[:5]"
   ]
  },
  {
   "cell_type": "code",
   "execution_count": null,
   "id": "f993428c",
   "metadata": {},
   "outputs": [],
   "source": [
    "df_wrang.groupby('twp').count().sort_values('e',ascending=0)[:5]['e'].plot(kind='barh')"
   ]
  },
  {
   "cell_type": "code",
   "execution_count": null,
   "id": "49bb9e5c",
   "metadata": {},
   "outputs": [],
   "source": [
    "tmplst = list(df_wrang['twp'].value_counts()[:5].index)\n",
    "tmplst"
   ]
  },
  {
   "cell_type": "code",
   "execution_count": null,
   "id": "1ebd2eb5",
   "metadata": {},
   "outputs": [],
   "source": [
    "plt.figure(figsize=(10,6))\n",
    "sns.countplot(data=df_wrang[df_wrang['twp'].apply(lambda x:(True if x in tmplst else False))],x='twp',hue='Reason')"
   ]
  },
  {
   "cell_type": "code",
   "execution_count": null,
   "id": "440497c9",
   "metadata": {},
   "outputs": [],
   "source": [
    "df_wrang['timeStamp'] = pd.to_datetime(df_wrang['timeStamp'])"
   ]
  },
  {
   "cell_type": "code",
   "execution_count": null,
   "id": "c1dbaf80",
   "metadata": {},
   "outputs": [],
   "source": [
    "df_wrang['Month'] = df_wrang['timeStamp'].apply(lambda x:x.month)\n",
    "df_wrang['DayOfWeek'] = df_wrang['timeStamp'].apply(lambda x:x.dayofweek)\n",
    "df_wrang.head()"
   ]
  },
  {
   "cell_type": "code",
   "execution_count": null,
   "id": "3b2da4cd",
   "metadata": {},
   "outputs": [],
   "source": [
    "daydict = {0:'Mon',1:'Tue',2:'Wed',3:'Thur',4:'Fri',5:'Sat',6:'Sun'}\n",
    "df_wrang['DayOfWeek']  = df_wrang['DayOfWeek'].map(daydict)"
   ]
  },
  {
   "cell_type": "code",
   "execution_count": null,
   "id": "405dae27",
   "metadata": {},
   "outputs": [],
   "source": [
    "df_wrang.head()"
   ]
  },
  {
   "cell_type": "code",
   "execution_count": null,
   "id": "38f89bc4",
   "metadata": {},
   "outputs": [],
   "source": [
    "mondict = {1:'Jan',2:'Feb',3:'Mar',4:'Apr',5:'May',6:'Jun',7:'Jul',8:'Aug',9:'Sep',10:'Oct',11:'Nov',12:'Dec'}\n",
    "df_wrang['Month']=df_wrang['Month'].map(mondict)"
   ]
  },
  {
   "cell_type": "code",
   "execution_count": null,
   "id": "b1ae4161",
   "metadata": {},
   "outputs": [],
   "source": [
    "df_wrang.head()"
   ]
  },
  {
   "cell_type": "code",
   "execution_count": null,
   "id": "16f9f58b",
   "metadata": {},
   "outputs": [],
   "source": [
    "plt.figure(figsize=(10,6))\n",
    "sns.countplot(x='Month',data=df_wrang,hue='Reason')"
   ]
  },
  {
   "cell_type": "code",
   "execution_count": null,
   "id": "6dcccc09",
   "metadata": {},
   "outputs": [],
   "source": [
    "plt.figure(figsize=(12,6))\n",
    "sns.countplot(x='DayOfWeek',data=df_wrang,hue='Reason')"
   ]
  },
  {
   "cell_type": "code",
   "execution_count": null,
   "id": "fb91ffef",
   "metadata": {},
   "outputs": [],
   "source": []
  }
 ],
 "metadata": {
  "kernelspec": {
   "display_name": "Python 3 (ipykernel)",
   "language": "python",
   "name": "python3"
  },
  "language_info": {
   "codemirror_mode": {
    "name": "ipython",
    "version": 3
   },
   "file_extension": ".py",
   "mimetype": "text/x-python",
   "name": "python",
   "nbconvert_exporter": "python",
   "pygments_lexer": "ipython3",
   "version": "3.9.7"
  }
 },
 "nbformat": 4,
 "nbformat_minor": 5
}
