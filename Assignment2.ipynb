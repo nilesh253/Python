{
 "cells": [
  {
   "cell_type": "code",
   "execution_count": 1,
   "id": "057231fb",
   "metadata": {},
   "outputs": [
    {
     "name": "stdout",
     "output_type": "stream",
     "text": [
      "User ID : Nilesh\n",
      "Password : Nilesh@123\n",
      "Valid Password\n"
     ]
    }
   ],
   "source": [
    "\"\"\" \n",
    "Smith wishesto register in a ticket booking website\n",
    "for booking bus tickets. For authenticate the registration, \n",
    "he needs to provide user-id and password. There are some\n",
    "built-in rules for checking the validity of the passwords entered\n",
    "by the users.Following are the rulesfor checkingthe validity of a password\n",
    "i. At least 1 alphabet\n",
    "ii.At least 1 digitbetween [0-9]\n",
    "iii.At least 1 character from [@&]\n",
    "iv.Minimum length of transaction password: 5\n",
    "v.Maximum length of transaction password: 10\n",
    "\"\"\"\n",
    "\n",
    "\n",
    "import re\n",
    "uid=input(\"User ID : \")\n",
    "password = input(\"Password : \")\n",
    "flag = 0\n",
    "while True:  \n",
    "    if (len(password)<5 or len(password)>10):\n",
    "        flag = -1\n",
    "        break\n",
    "    elif not re.search(\"[a-z]\", password):\n",
    "        flag = -1\n",
    "        break\n",
    "    elif not re.search(\"[0-9]\", password):\n",
    "        flag = -1\n",
    "        break\n",
    "    elif not re.search(\"[_@$]\", password):\n",
    "        flag = -1\n",
    "        break\n",
    "    else:\n",
    "        flag = 0\n",
    "        print(\"Valid Password\")\n",
    "        break\n",
    "  \n",
    "if flag ==-1:\n",
    "    print(\"Not a Valid Password\")\n",
    "\n"
   ]
  },
  {
   "cell_type": "code",
   "execution_count": 2,
   "id": "cfe65aee",
   "metadata": {},
   "outputs": [
    {
     "name": "stdout",
     "output_type": "stream",
     "text": [
      "Enter number of elements : 5\n",
      "3\n",
      "The character at 0 Index Position = 3\n",
      "4\n",
      "The character at 1 Index Position = 4\n",
      "5\n",
      "The character at 2 Index Position = 5\n",
      "6\n",
      "The character at 3 Index Position = 6\n",
      "7\n",
      "The character at 4 Index Position = 7\n",
      "[3, 4, 5, 6, 7]\n"
     ]
    }
   ],
   "source": [
    "\n",
    "\n",
    "# Write a program for printing all elements of a list and their indexes \n",
    "# in the list.Take the list as a user input.\n",
    "\n",
    "\n",
    "\n",
    "# creating an empty list\n",
    "lst = []\n",
    "\n",
    "# number of elements as input\n",
    "n = int(input(\"Enter number of elements : \"))\n",
    "\n",
    "# iterating till the range\n",
    "for i in range(0, n):\n",
    "    ele = int(input())\n",
    "    lst.append(ele) \n",
    "    print(\"The character at %d Index Position = %d\" %(i,ele))\n",
    "print(lst)\n",
    "\n"
   ]
  },
  {
   "cell_type": "code",
   "execution_count": 3,
   "id": "3f6bb554",
   "metadata": {},
   "outputs": [
    {
     "name": "stdout",
     "output_type": "stream",
     "text": [
      "Enter a string: Hello123 asdf23\n",
      "Even characters: ['e', 'l', 'a', 'd']\n"
     ]
    }
   ],
   "source": [
    "# Write a program which accepts a string from the console and print \n",
    "# the characters that have even indexes if the character is an\n",
    "# alphabet. Concatenate the characters and print.Example: If the \n",
    "# following string is given as input to the \n",
    "# program:Ed12ur3ka1Python12 Then, the output of the program \n",
    "# should be:EuaPto\n",
    "\n",
    "import re\n",
    "_string = input('Enter a string: ')\n",
    "\n",
    "even_chars = []\n",
    "\n",
    "\n",
    "for i in range(len(_string)):\n",
    "    if i % 2 != 0 and (re.search(\"[A-Z]\", _string[i]) or re.search(\"[a-z]\", _string[i]) ):\n",
    "        even_chars.append(_string[i])\n",
    "    else:\n",
    "        continue\n",
    "\n",
    "print('Even characters: {}'.format(even_chars))\n",
    "\n"
   ]
  },
  {
   "cell_type": "code",
   "execution_count": 4,
   "id": "e6d5b5d5",
   "metadata": {},
   "outputs": [
    {
     "name": "stdout",
     "output_type": "stream",
     "text": [
      "Enter Your String : Welcome to edureka\n",
      "The original string  is : Welcome to edureka\n",
      "The reversed string is : akerude ot emocleW\n"
     ]
    }
   ],
   "source": [
    "# Please write a program which accepts a string from console and \n",
    "# print it in reverse order.Example: If the following string is given as \n",
    "# input to the program: welcome to edurekaThen, the output of the\n",
    "# program should be:akerude ot emoclew\n",
    "\n",
    "\n",
    "\n",
    "\n",
    "# Function to reverse a string\n",
    "def reverse(string):\n",
    "    string = string[::-1]\n",
    "    return string\n",
    "  \n",
    "s = input(\"Enter Your String : \")\n",
    "  \n",
    "print (\"The original string  is : \",end=\"\")\n",
    "print (s)\n",
    "  \n",
    "print (\"The reversed string is : \",end=\"\")\n",
    "print (reverse(s))\n",
    "\n",
    "\n",
    "\n",
    "\n",
    "\n",
    "\n"
   ]
  },
  {
   "cell_type": "code",
   "execution_count": 5,
   "id": "d4613d54",
   "metadata": {},
   "outputs": [
    {
     "name": "stdout",
     "output_type": "stream",
     "text": [
      "Enter the string  :  Hi! my name is Nilesh Singh\n",
      "Character are  :\n",
      " {'H': 1, 'i': 4, '!': 1, ' ': 5, 'm': 2, 'y': 1, 'n': 2, 'a': 1, 'e': 2, 's': 2, 'N': 1, 'l': 1, 'h': 2, 'S': 1, 'g': 1}\n"
     ]
    }
   ],
   "source": [
    "# Please write a program which counts and prints the \n",
    "# numbers of each character in a string input by the console\n",
    "\n",
    "test_str = input(\"Enter the string  :  \")\n",
    "\n",
    "word = {}\n",
    "  \n",
    "for i in test_str:\n",
    "    if i in word:\n",
    "        word[i] += 1\n",
    "    else:\n",
    "        word[i] = 1\n",
    "\n",
    "print (\"Character are  :\\n \" +  str(word))\n"
   ]
  },
  {
   "cell_type": "code",
   "execution_count": 6,
   "id": "81ba32eb",
   "metadata": {},
   "outputs": [
    {
     "name": "stdout",
     "output_type": "stream",
     "text": [
      "[5, 10, 13]\n"
     ]
    }
   ],
   "source": [
    "# Given: Lists [1,5,10,12,34,13] and [4,7,8,10,5,13,24]. \n",
    "# With the above give lists, write a program tocreate a \n",
    "# newlist whose elements are intersection of the above given lists.\n",
    "\n",
    "\n",
    "\n",
    "def intersection(list1, list2):\n",
    "    list3 = [value for value in list1 if value in list2]\n",
    "    return list3\n",
    " \n",
    "# Driver Code\n",
    "list1 = [1,5,10,12,34,13]\n",
    "list2 = [4,7,8,10,5,13,24]\n",
    "print(intersection(list1, list2))"
   ]
  },
  {
   "cell_type": "code",
   "execution_count": 7,
   "id": "2ed54d71",
   "metadata": {},
   "outputs": [
    {
     "name": "stdout",
     "output_type": "stream",
     "text": [
      "[12, 24, 24, 120]\n"
     ]
    }
   ],
   "source": [
    "# By using list comprehension, please write a program\n",
    "# to print the list after removing the values which are\n",
    "# divisible by 6 in [12,24,35,24,88,120,155].\n",
    "\n",
    "def Comp(list1):\n",
    "    list2 = [value for value in list1 if value%6==0]\n",
    "    return list2\n",
    " \n",
    "# Driver Code\n",
    "list1 =  [12,24,35,24,88,120,155]\n",
    "\n",
    "print(Comp(list1))\n"
   ]
  },
  {
   "cell_type": "code",
   "execution_count": 8,
   "id": "74a3d761",
   "metadata": {},
   "outputs": [
    {
     "name": "stdout",
     "output_type": "stream",
     "text": [
      "[12, 35, 88, 155]\n"
     ]
    }
   ],
   "source": [
    "# By using list comprehension, please write a program\n",
    "# to print the list after removing the 1st,3rd,5th\n",
    "# numbers in [12,24,35,70,88,120,155].\n",
    "\n",
    "def Comp(list1):\n",
    "    list2 = [v for i, v in enumerate(list1) if i % 2 == 0]\n",
    "    return list2\n",
    "\n",
    "list1 =  [12,24,35,24,88,120,155]\n",
    "\n",
    "print(Comp(list1))\n",
    "\n",
    "# Output after removing 1st,3rd,5th element from list.\n",
    "# Since List always starts from zero."
   ]
  },
  {
   "cell_type": "code",
   "execution_count": 9,
   "id": "b25779b7",
   "metadata": {},
   "outputs": [
    {
     "name": "stdout",
     "output_type": "stream",
     "text": [
      "Original list :\n",
      " \n",
      "35,70,105,140,175,210,245,280,315,350,385,420,455,490,525,560,595,630,665,700,735,770,805,840,875,910,945,980,1015,1050,1085,1120,1155,1190,1225,1260,1295,1330,1365,1400,1435,1470\n",
      "\n",
      "\n",
      "Random list :\n",
      " \n",
      "[840, 565, 752, 191, 1106, 1034]\n"
     ]
    }
   ],
   "source": [
    "#  write  a  program  to  randomly  generate  a  list  with\n",
    "# 6 numbers,  which  are divisible by 5 and 7, between 1 and 1500 inclusive\n",
    "\n",
    "import random\n",
    "list=[]\n",
    "for x in range(1,1500):\n",
    "    if (x%5==0) and (x%7==0):\n",
    "        list.append(str(x))\n",
    "print(\"Original list :\\n \")\n",
    "print (','.join(list))\n",
    "\n",
    "print(\"\\n\\nRandom list :\\n \")\n",
    "randomlist = []\n",
    "for i in range(6):\n",
    "    n = random.randint(1,1500)\n",
    "    randomlist.append(n)\n",
    "print(randomlist)\n"
   ]
  },
  {
   "cell_type": "code",
   "execution_count": 10,
   "id": "d7298656",
   "metadata": {},
   "outputs": [
    {
     "name": "stdout",
     "output_type": "stream",
     "text": [
      "Enter the number of terms: 5\n",
      "The sum of series is 3.55\n"
     ]
    }
   ],
   "source": [
    "\"\"\"\n",
    "Write  a  program  to  compute  1/2+2/3+3/4+...+n/n+1 \n",
    "with  a  given  n  input  by console (n>0).\n",
    "Example: \n",
    "If the following n is given as input to the program:\n",
    "5\n",
    "Then, the output of the programshould be:\n",
    "3.55\n",
    "\"\"\"\n",
    "\n",
    "n=int(input(\"Enter the number of terms: \"))\n",
    "sum1=0\n",
    "for i in range(1,n+1):\n",
    "    sum1=sum1+(i/(i+1))\n",
    "print(\"The sum of series is\",round(sum1,2))"
   ]
  },
  {
   "cell_type": "code",
   "execution_count": null,
   "id": "ef23f8d9",
   "metadata": {},
   "outputs": [],
   "source": []
  }
 ],
 "metadata": {
  "kernelspec": {
   "display_name": "Python 3 (ipykernel)",
   "language": "python",
   "name": "python3"
  },
  "language_info": {
   "codemirror_mode": {
    "name": "ipython",
    "version": 3
   },
   "file_extension": ".py",
   "mimetype": "text/x-python",
   "name": "python",
   "nbconvert_exporter": "python",
   "pygments_lexer": "ipython3",
   "version": "3.9.7"
  }
 },
 "nbformat": 4,
 "nbformat_minor": 5
}
