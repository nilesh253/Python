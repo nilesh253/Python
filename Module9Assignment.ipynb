{
 "cells": [
  {
   "cell_type": "code",
   "execution_count": 1,
   "id": "a7de77e8",
   "metadata": {},
   "outputs": [
    {
     "data": {
      "text/html": [
       "<div>\n",
       "<style scoped>\n",
       "    .dataframe tbody tr th:only-of-type {\n",
       "        vertical-align: middle;\n",
       "    }\n",
       "\n",
       "    .dataframe tbody tr th {\n",
       "        vertical-align: top;\n",
       "    }\n",
       "\n",
       "    .dataframe thead th {\n",
       "        text-align: right;\n",
       "    }\n",
       "</style>\n",
       "<table border=\"1\" class=\"dataframe\">\n",
       "  <thead>\n",
       "    <tr style=\"text-align: right;\">\n",
       "      <th></th>\n",
       "      <th>float_col</th>\n",
       "      <th>int_col</th>\n",
       "      <th>str_col</th>\n",
       "    </tr>\n",
       "  </thead>\n",
       "  <tbody>\n",
       "    <tr>\n",
       "      <th>0</th>\n",
       "      <td>0.1</td>\n",
       "      <td>1</td>\n",
       "      <td>a</td>\n",
       "    </tr>\n",
       "    <tr>\n",
       "      <th>1</th>\n",
       "      <td>0.2</td>\n",
       "      <td>2</td>\n",
       "      <td>b</td>\n",
       "    </tr>\n",
       "    <tr>\n",
       "      <th>2</th>\n",
       "      <td>0.2</td>\n",
       "      <td>6</td>\n",
       "      <td>None</td>\n",
       "    </tr>\n",
       "    <tr>\n",
       "      <th>3</th>\n",
       "      <td>10.1</td>\n",
       "      <td>8</td>\n",
       "      <td>c</td>\n",
       "    </tr>\n",
       "    <tr>\n",
       "      <th>4</th>\n",
       "      <td>NaN</td>\n",
       "      <td>-1</td>\n",
       "      <td>a</td>\n",
       "    </tr>\n",
       "  </tbody>\n",
       "</table>\n",
       "</div>"
      ],
      "text/plain": [
       "  float_col int_col str_col\n",
       "0       0.1       1       a\n",
       "1       0.2       2       b\n",
       "2       0.2       6    None\n",
       "3      10.1       8       c\n",
       "4       NaN      -1       a"
      ]
     },
     "execution_count": 1,
     "metadata": {},
     "output_type": "execute_result"
    }
   ],
   "source": [
    "import pandas as pd\n",
    " \n",
    "data = {'float_col':['0.1','0.2','0.2','10.1','NaN'],\n",
    "       'int_col':['1','2','6','8','-1'],\n",
    "       'str_col':['a','b','None','c','a']}\n",
    "\n",
    "\n",
    "df = pd.DataFrame(data)\n",
    "df\n"
   ]
  },
  {
   "cell_type": "code",
   "execution_count": 2,
   "id": "11c60cf1",
   "metadata": {},
   "outputs": [
    {
     "name": "stdout",
     "output_type": "stream",
     "text": [
      "Output of Dataframe using iloc method is :  \n",
      "   float_col int_col\n",
      "0       0.1       1\n",
      "1       0.2       2\n",
      "2       0.2       6\n",
      "3      10.1       8\n",
      "4       NaN      -1\n",
      "Output of Dataframe without using iloc method is :  \n",
      "   float_col int_col\n",
      "0       0.1       1\n",
      "1       0.2       2\n",
      "2       0.2       6\n",
      "3      10.1       8\n",
      "4       NaN      -1\n",
      "\n",
      "\n"
     ]
    }
   ],
   "source": [
    "iloc_method =df.iloc[:,:2]\n",
    "print('Output of Dataframe using iloc method is : ','\\n',iloc_method)\n",
    "col=df[['float_col','int_col']]\n",
    "print('Output of Dataframe without using iloc method is : ','\\n',col)\n",
    "print('\\n')"
   ]
  },
  {
   "cell_type": "code",
   "execution_count": 3,
   "id": "d6a9b03e",
   "metadata": {},
   "outputs": [
    {
     "name": "stdout",
     "output_type": "stream",
     "text": [
      "Records from float_col having value greater than 0.15 : \n",
      "  float_col int_col str_col\n",
      "1       0.2       2       b\n",
      "2       0.2       6    None\n",
      "3      10.1       8       c\n",
      "4       NaN      -1       a\n"
     ]
    }
   ],
   "source": [
    "print('Records from float_col having value greater than 0.15 : ')\n",
    "print(df.loc[df['float_col']>'0.15'])"
   ]
  },
  {
   "cell_type": "code",
   "execution_count": 4,
   "id": "95fed6c7",
   "metadata": {},
   "outputs": [
    {
     "name": "stdout",
     "output_type": "stream",
     "text": [
      "Records from float_col having value equal to 0.1 : \n",
      "  float_col int_col str_col\n",
      "0       0.1       1       a\n"
     ]
    }
   ],
   "source": [
    "print('Records from float_col having value equal to 0.1 : ')\n",
    "print(df.loc[df['float_col']=='0.1'])"
   ]
  },
  {
   "cell_type": "code",
   "execution_count": 5,
   "id": "e4226a86",
   "metadata": {},
   "outputs": [
    {
     "name": "stdout",
     "output_type": "stream",
     "text": [
      "Records from DataFrame which satisfies both the conditions float_col greater than 0.1 and int_col greater than 2 : \n",
      "  float_col int_col str_col\n",
      "2       0.2       6    None\n",
      "3      10.1       8       c\n"
     ]
    }
   ],
   "source": [
    "print('Records from DataFrame which satisfies both the conditions float_col greater than 0.1 and int_col greater than 2 : ')\n",
    "print(df.loc[(df['float_col']>'0.1') & (df['int_col']>'2')])"
   ]
  },
  {
   "cell_type": "code",
   "execution_count": 6,
   "id": "f7cd90c1",
   "metadata": {},
   "outputs": [
    {
     "name": "stdout",
     "output_type": "stream",
     "text": [
      "Records from DataFrame which satisfies both the conditions float_col greater than 0.1 or int_col greater than 2 : \n",
      "  float_col int_col str_col\n",
      "1       0.2       2       b\n",
      "2       0.2       6    None\n",
      "3      10.1       8       c\n",
      "4       NaN      -1       a\n"
     ]
    }
   ],
   "source": [
    "print('Records from DataFrame which satisfies both the conditions float_col greater than 0.1 or int_col greater than 2 : ')\n",
    "print(df.loc[(df['float_col']>'0.1') | (df['int_col']>'2')])"
   ]
  },
  {
   "cell_type": "code",
   "execution_count": 7,
   "id": "0c80685c",
   "metadata": {},
   "outputs": [
    {
     "name": "stdout",
     "output_type": "stream",
     "text": [
      "Records from DataFrame which satisfies which satisfies the conditions float_col not greater than 0.1 : \n",
      "Empty DataFrame\n",
      "Columns: [float_col, int_col, str_col]\n",
      "Index: []\n"
     ]
    }
   ],
   "source": [
    "print('Records from DataFrame which satisfies which satisfies the conditions float_col not greater than 0.1 : ')\n",
    "print(df.loc[df['float_col']<'0.1'])\n"
   ]
  },
  {
   "cell_type": "code",
   "execution_count": 8,
   "id": "481d6260",
   "metadata": {},
   "outputs": [
    {
     "name": "stdout",
     "output_type": "stream",
     "text": [
      "New DataFrame in which column int_col is renamed to new_name :\n",
      "  float_col new_name str_col\n",
      "0       0.1        1       a\n",
      "1       0.2        2       b\n",
      "2       0.2        6    None\n",
      "3      10.1        8       c\n",
      "4       NaN       -1       a\n"
     ]
    }
   ],
   "source": [
    "new_final_dataframe=df.copy()\n",
    "new_final_dataframe.rename(columns={'int_col':'new_name'}, inplace=True)\n",
    "print('New DataFrame in which column int_col is renamed to new_name :')\n",
    "print(new_final_dataframe)"
   ]
  },
  {
   "cell_type": "code",
   "execution_count": 9,
   "id": "c012a92e",
   "metadata": {},
   "outputs": [
    {
     "name": "stdout",
     "output_type": "stream",
     "text": [
      "Old existing DataFrame in which column int_col is renamed to new_name :\n",
      "  float_col new_name str_col\n",
      "0       0.1        1       a\n",
      "1       0.2        2       b\n",
      "2       0.2        6    None\n",
      "3      10.1        8       c\n",
      "4       NaN       -1       a\n"
     ]
    }
   ],
   "source": [
    "df.rename(columns={'int_col':'new_name'}, inplace=True)\n",
    "print('Old existing DataFrame in which column int_col is renamed to new_name :')\n",
    "print(df)"
   ]
  },
  {
   "cell_type": "code",
   "execution_count": 10,
   "id": "1438e177",
   "metadata": {},
   "outputs": [
    {
     "name": "stdout",
     "output_type": "stream",
     "text": [
      "Old existing DataFrame after dropping rows where any value is missing :\n",
      "  float_col new_name str_col\n",
      "0       0.1        1       a\n",
      "1       0.2        2       b\n",
      "2       0.2        6    None\n",
      "3      10.1        8       c\n",
      "4       NaN       -1       a\n"
     ]
    }
   ],
   "source": [
    "index_names_to_be_dropped=df[(df['str_col'].isnull()) | (df['float_col'].isnull()) | (df['new_name'].isnull()) ].index\n",
    "df.drop(index_names_to_be_dropped,inplace=True)\n",
    "df=df.reset_index(drop=True)\n",
    "print('Old existing DataFrame after dropping rows where any value is missing :')\n",
    "print(df)"
   ]
  },
  {
   "cell_type": "code",
   "execution_count": null,
   "id": "b1759779",
   "metadata": {},
   "outputs": [],
   "source": [
    "new_final_dataframe['float_col']=new_final_dataframe['float_col'].fillna(new_final_dataframe['float_col'].mean())\n",
    "print('New DataFrame after changing the missing value in column float_col as mean value of the float_col')\n",
    "print(new_final_dataframe)"
   ]
  },
  {
   "cell_type": "code",
   "execution_count": 12,
   "id": "68fc9c0d",
   "metadata": {},
   "outputs": [
    {
     "name": "stdout",
     "output_type": "stream",
     "text": [
      "DataFrame after dropping missing values under str_col column and changing all values under it with a prefix map_ and existing value :\n",
      "  float_col new_name   str_col\n",
      "0       0.1        1     map_a\n",
      "1       0.2        2     map_b\n",
      "2       0.2        6  map_None\n",
      "3      10.1        8     map_c\n",
      "4       NaN       -1     map_a\n"
     ]
    }
   ],
   "source": [
    "index_names_to_be_dropped=new_final_dataframe[(new_final_dataframe['str_col'].isnull())].index\n",
    "new_final_dataframe.drop(index_names_to_be_dropped,inplace=True)\n",
    "new_final_dataframe=new_final_dataframe.reset_index(drop=True)\n",
    "for (index_label, row_series) in new_final_dataframe.iterrows():\n",
    "   new_final_dataframe.at[index_label, 'str_col'] = 'map_'+row_series['str_col']\n",
    "print('DataFrame after dropping missing values under str_col column and changing all values under it with a prefix map_ and existing value :')\n",
    "print(new_final_dataframe)"
   ]
  },
  {
   "cell_type": "code",
   "execution_count": null,
   "id": "268e7efc",
   "metadata": {},
   "outputs": [],
   "source": [
    "print('Output of dataframe after taking mean of float_col for groups under str_col :')\n",
    "print(new_final_dataframe.groupby(['str_col'])['float_col'].agg('mean'))"
   ]
  },
  {
   "cell_type": "code",
   "execution_count": 18,
   "id": "ffc4fda9",
   "metadata": {},
   "outputs": [
    {
     "name": "stdout",
     "output_type": "stream",
     "text": [
      "Empty DataFrame\n",
      "Columns: []\n",
      "Index: []\n"
     ]
    }
   ],
   "source": [
    "print(new_final_dataframe.cov())"
   ]
  },
  {
   "cell_type": "code",
   "execution_count": null,
   "id": "ba152998",
   "metadata": {},
   "outputs": [],
   "source": [
    "column_1 = new_final_dataframe[\"new_name\"]\n",
    "column_2 = new_final_dataframe[\"float_col\"]\n",
    "correlation = column_1.corr(column_2)\n",
    "print(correlation)"
   ]
  },
  {
   "cell_type": "code",
   "execution_count": 24,
   "id": "0fc63e25",
   "metadata": {},
   "outputs": [
    {
     "name": "stdout",
     "output_type": "stream",
     "text": [
      "Output :  \n",
      "    some_val str_col\n",
      "0         1       a\n",
      "1         2       b\n"
     ]
    }
   ],
   "source": [
    "new_data=[[1,'a'],[2,'b']]\n",
    "other=pd.DataFrame(new_data,columns=['some_val','str_col'])\n",
    "print('Output : ','\\n',other)"
   ]
  },
  {
   "cell_type": "code",
   "execution_count": 26,
   "id": "2b10aaf9",
   "metadata": {},
   "outputs": [
    {
     "name": "stdout",
     "output_type": "stream",
     "text": [
      "Inner Join output is :\n",
      "  float_col new_name str_col  some_val\n",
      "0       0.1        1       a         1\n",
      "1       NaN       -1       a         1\n",
      "2       0.2        2       b         2\n"
     ]
    }
   ],
   "source": [
    "print('Inner Join output is :')\n",
    "print(pd.merge(df,other,on='str_col'))"
   ]
  },
  {
   "cell_type": "code",
   "execution_count": 27,
   "id": "8dec9871",
   "metadata": {},
   "outputs": [
    {
     "name": "stdout",
     "output_type": "stream",
     "text": [
      "Outer Join output is :\n",
      "  float_col new_name str_col  some_val\n",
      "0       0.1        1       a       1.0\n",
      "1       NaN       -1       a       1.0\n",
      "2       0.2        2       b       2.0\n",
      "3       0.2        6    None       NaN\n",
      "4      10.1        8       c       NaN\n"
     ]
    }
   ],
   "source": [
    "print('Outer Join output is :')\n",
    "print(pd.merge(df,other,on='str_col',how='outer'))"
   ]
  },
  {
   "cell_type": "code",
   "execution_count": 28,
   "id": "47625dbf",
   "metadata": {},
   "outputs": [
    {
     "name": "stdout",
     "output_type": "stream",
     "text": [
      "Left Join output is :\n",
      "  float_col new_name str_col  some_val\n",
      "0       0.1        1       a       1.0\n",
      "1       0.2        2       b       2.0\n",
      "2       0.2        6    None       NaN\n",
      "3      10.1        8       c       NaN\n",
      "4       NaN       -1       a       1.0\n"
     ]
    }
   ],
   "source": [
    "print('Left Join output is :')\n",
    "print(pd.merge(df,other,on='str_col',how='left'))"
   ]
  },
  {
   "cell_type": "code",
   "execution_count": 29,
   "id": "a52c62ce",
   "metadata": {},
   "outputs": [
    {
     "name": "stdout",
     "output_type": "stream",
     "text": [
      "Right Join output is :\n",
      "  float_col new_name str_col  some_val\n",
      "0       0.1        1       a         1\n",
      "1       NaN       -1       a         1\n",
      "2       0.2        2       b         2\n"
     ]
    }
   ],
   "source": [
    "print('Right Join output is :')\n",
    "print(pd.merge(df,other,on='str_col',how='right'))"
   ]
  },
  {
   "cell_type": "code",
   "execution_count": 30,
   "id": "73291fec",
   "metadata": {},
   "outputs": [
    {
     "name": "stdout",
     "output_type": "stream",
     "text": [
      "Names.txt successfully written\n",
      "body.txt successfully written\n",
      "All files have been successfully written\n"
     ]
    }
   ],
   "source": [
    "file1 = open(\"names.txt\",\"w\")\n",
    "list_of_names = [\"Anil \\n\",\"sunita \\n\",\"suman \\n\",\"lokesh \\n\",\"Sumita \\n\",\"John \\n\",\"Johny \\n\"]\n",
    "file1.writelines(list_of_names)\n",
    "file1.close()\n",
    "print('Names.txt successfully written')\n",
    "\n",
    "file2 = open(\"body.txt\",\"w\")\n",
    "body = [\"I am going to Delhi. Lets meet on 7th Jan 2018 \\n\",\"Have a great day \\n\",\"Regards \\n\",\"Team Victory\"]\n",
    "file2.writelines(body)\n",
    "file2.close()\n",
    "print('body.txt successfully written')\n",
    "\n",
    "\n",
    "file2=open(\"body.txt\")\n",
    "body_content=file2.read()\n",
    "file2.close()\n",
    "\n",
    "with open('names.txt','r') as file1:\n",
    "    for line1 in file1:\n",
    "        name = line1.strip()\n",
    "        filename = \"%s.txt\" % name\n",
    "        file3 = open(filename, \"w\")\n",
    "        file3.writelines(filename)\n",
    "        file3.writelines('\\n-----------------------\\n')\n",
    "        file3.writelines('Hello '+line1)\n",
    "        file3.writelines(body_content)\n",
    "        file3.writelines('\\n-----------------------')\n",
    "        file3.close()\n",
    "\n",
    "print('All files have been successfully written')"
   ]
  },
  {
   "cell_type": "code",
   "execution_count": null,
   "id": "2d0a03e8",
   "metadata": {},
   "outputs": [],
   "source": []
  }
 ],
 "metadata": {
  "kernelspec": {
   "display_name": "Python 3 (ipykernel)",
   "language": "python",
   "name": "python3"
  },
  "language_info": {
   "codemirror_mode": {
    "name": "ipython",
    "version": 3
   },
   "file_extension": ".py",
   "mimetype": "text/x-python",
   "name": "python",
   "nbconvert_exporter": "python",
   "pygments_lexer": "ipython3",
   "version": "3.9.7"
  }
 },
 "nbformat": 4,
 "nbformat_minor": 5
}
