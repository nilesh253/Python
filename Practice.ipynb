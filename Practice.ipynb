{
 "cells": [
  {
   "cell_type": "code",
   "execution_count": 2,
   "id": "45fbd84e",
   "metadata": {},
   "outputs": [],
   "source": [
    "list_variable = [10,20,303,43,230]"
   ]
  },
  {
   "cell_type": "code",
   "execution_count": 3,
   "id": "9494411a",
   "metadata": {},
   "outputs": [
    {
     "data": {
      "text/plain": [
       "10"
      ]
     },
     "execution_count": 3,
     "metadata": {},
     "output_type": "execute_result"
    }
   ],
   "source": [
    "list_variable[0]"
   ]
  },
  {
   "cell_type": "code",
   "execution_count": 4,
   "id": "61ee7474",
   "metadata": {},
   "outputs": [],
   "source": [
    "list_variable[0]=101\n"
   ]
  },
  {
   "cell_type": "code",
   "execution_count": 5,
   "id": "8e36d7c0",
   "metadata": {},
   "outputs": [
    {
     "data": {
      "text/plain": [
       "[101, 20, 303, 43, 230]"
      ]
     },
     "execution_count": 5,
     "metadata": {},
     "output_type": "execute_result"
    }
   ],
   "source": [
    "list_variable\n"
   ]
  },
  {
   "cell_type": "code",
   "execution_count": 10,
   "id": "f2602373",
   "metadata": {},
   "outputs": [],
   "source": [
    "tuple_var= (10.232,12,13,23,432,223)"
   ]
  },
  {
   "cell_type": "code",
   "execution_count": 11,
   "id": "6e2e0f90",
   "metadata": {},
   "outputs": [
    {
     "data": {
      "text/plain": [
       "(10.232, 12, 13, 23, 432, 223)"
      ]
     },
     "execution_count": 11,
     "metadata": {},
     "output_type": "execute_result"
    }
   ],
   "source": [
    "tuple_var\n"
   ]
  },
  {
   "cell_type": "code",
   "execution_count": 12,
   "id": "e7a53002",
   "metadata": {},
   "outputs": [
    {
     "data": {
      "text/plain": [
       "10.232"
      ]
     },
     "execution_count": 12,
     "metadata": {},
     "output_type": "execute_result"
    }
   ],
   "source": [
    "tuple_var[0\n",
    "         ]"
   ]
  },
  {
   "cell_type": "code",
   "execution_count": 14,
   "id": "7073af68",
   "metadata": {},
   "outputs": [
    {
     "data": {
      "text/plain": [
       "10.232"
      ]
     },
     "execution_count": 14,
     "metadata": {},
     "output_type": "execute_result"
    }
   ],
   "source": [
    "tuple_var[0]\n"
   ]
  },
  {
   "cell_type": "code",
   "execution_count": 17,
   "id": "a05f5b57",
   "metadata": {},
   "outputs": [],
   "source": [
    "dict_var={'name':\"Nilesh\",\"age\": 22}"
   ]
  },
  {
   "cell_type": "code",
   "execution_count": 18,
   "id": "6885d24a",
   "metadata": {},
   "outputs": [
    {
     "data": {
      "text/plain": [
       "{'name': 'Nilesh', 'age': 22}"
      ]
     },
     "execution_count": 18,
     "metadata": {},
     "output_type": "execute_result"
    }
   ],
   "source": [
    "dict_var"
   ]
  },
  {
   "cell_type": "code",
   "execution_count": 23,
   "id": "2ccf2ee7",
   "metadata": {},
   "outputs": [
    {
     "data": {
      "text/plain": [
       "22"
      ]
     },
     "execution_count": 23,
     "metadata": {},
     "output_type": "execute_result"
    }
   ],
   "source": [
    "dict_var['age']"
   ]
  },
  {
   "cell_type": "code",
   "execution_count": 32,
   "id": "b782f170",
   "metadata": {},
   "outputs": [
    {
     "ename": "SyntaxError",
     "evalue": "invalid syntax (Temp/ipykernel_24480/3820701987.py, line 1)",
     "output_type": "error",
     "traceback": [
      "\u001b[1;36m  File \u001b[1;32m\"C:\\Users\\KIIT\\AppData\\Local\\Temp/ipykernel_24480/3820701987.py\"\u001b[1;36m, line \u001b[1;32m1\u001b[0m\n\u001b[1;33m    dict_var.update(key:'near',value:'Mau')\u001b[0m\n\u001b[1;37m                       ^\u001b[0m\n\u001b[1;31mSyntaxError\u001b[0m\u001b[1;31m:\u001b[0m invalid syntax\n"
     ]
    }
   ],
   "source": [
    "dict_var.update(key:'near',value:'Mau')"
   ]
  },
  {
   "cell_type": "code",
   "execution_count": null,
   "id": "d57a3e7e",
   "metadata": {},
   "outputs": [],
   "source": []
  },
  {
   "cell_type": "code",
   "execution_count": null,
   "id": "d159a4a5",
   "metadata": {},
   "outputs": [],
   "source": []
  }
 ],
 "metadata": {
  "kernelspec": {
   "display_name": "Python 3 (ipykernel)",
   "language": "python",
   "name": "python3"
  },
  "language_info": {
   "codemirror_mode": {
    "name": "ipython",
    "version": 3
   },
   "file_extension": ".py",
   "mimetype": "text/x-python",
   "name": "python",
   "nbconvert_exporter": "python",
   "pygments_lexer": "ipython3",
   "version": "3.9.7"
  }
 },
 "nbformat": 4,
 "nbformat_minor": 5
}
