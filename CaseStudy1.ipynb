{
 "cells": [
  {
   "cell_type": "code",
   "execution_count": 9,
   "id": "48b55feb",
   "metadata": {},
   "outputs": [
    {
     "name": "stdout",
     "output_type": "stream",
     "text": [
      "Enter your UniqueId : 2348774123\n",
      "Thank You\n",
      "Your encoded UID is :  b'2348774123'\n",
      "Do you want to decrypt your ID : y\n",
      "2348774123\n"
     ]
    }
   ],
   "source": [
    "UID = input(\"Enter your UniqueId : \")\n",
    "if UID.isnumeric() and len(UID)==10:\n",
    "    print(\"Thank You\")\n",
    "    ValidID = UID.encode()\n",
    "    print(\"Your encoded UID is : \",ValidID)\n",
    "    Response = input(\"Do you want to decrypt your ID : \")\n",
    "    if Response =='y' or Response =='Y':\n",
    "        print(ValidID.decode())\n",
    "\n",
    "else :\n",
    "    print(\"Please enter a unique ID \")\n"
   ]
  },
  {
   "cell_type": "code",
   "execution_count": null,
   "id": "2c6709dc",
   "metadata": {},
   "outputs": [],
   "source": []
  }
 ],
 "metadata": {
  "kernelspec": {
   "display_name": "Python 3 (ipykernel)",
   "language": "python",
   "name": "python3"
  },
  "language_info": {
   "codemirror_mode": {
    "name": "ipython",
    "version": 3
   },
   "file_extension": ".py",
   "mimetype": "text/x-python",
   "name": "python",
   "nbconvert_exporter": "python",
   "pygments_lexer": "ipython3",
   "version": "3.9.7"
  }
 },
 "nbformat": 4,
 "nbformat_minor": 5
}
