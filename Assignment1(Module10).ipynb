{
 "cells": [
  {
   "cell_type": "code",
   "execution_count": null,
   "id": "bad10d55",
   "metadata": {},
   "outputs": [],
   "source": [
    "import requests\n",
    "from bs4 import BeautifulSoup\n",
    " \n",
    " \n",
    "url = 'https://www.youtube.com/'\n",
    "reqs = requests.get(url)\n",
    "soup = BeautifulSoup(reqs.text, 'html.parser')\n",
    " \n",
    "urls = []\n",
    "for link in soup.find_all('a'):\n",
    "    print(link.get('href'))"
   ]
  },
  {
   "cell_type": "code",
   "execution_count": null,
   "id": "85bf303f",
   "metadata": {
    "scrolled": true
   },
   "outputs": [],
   "source": [
    "\n",
    "from pytube import YouTube \n",
    "\n",
    "SAVE_PATH = \"C://Documents//Python Scripts\"\n",
    "\n",
    "link=\"https://www.youtube.com/playlist?list=PLxxA5z-8B2xk4szCgFmgonNcCboyNneMD\"\n",
    "  \n",
    "try: \n",
    "    yt = YouTube('https://www.youtube.com/playlist?list=PLxxA5z-8B2xk4szCgFmgonNcCboyNneMD') \n",
    "except: \n",
    "    print(\"Connection Error\") \n",
    "mp4files = yt.filter('mp4') \n",
    "yt.set_filename('Django Video')  \n",
    "\n",
    "d_video = yt.get(mp4files[-1].extension,mp4files[-1].resolution) \n",
    "try: \n",
    "\n",
    "    d_video.download(SAVE_PATH) \n",
    "except: \n",
    "    print(\"Some Error!\") \n",
    "print('Task Completed!') "
   ]
  },
  {
   "cell_type": "code",
   "execution_count": null,
   "id": "86806ded",
   "metadata": {},
   "outputs": [],
   "source": [
    "from BeautifulSoup import BeautifulSoup\n",
    "import urllib2\n",
    "import re\n",
    "\n",
    "html_page = urllib2.urlopen(\"http://bioguide.congress.gov/biosearch/biosearch1.asp\")\n",
    "soup = BeautifulSoup(html_page)\n",
    "for link in soup.findAll('a', attrs={'href': re.compile(\"^http://bioguide.congress.gov/biosearch/biosearch1.asp\")}):\n",
    "    print link.get('href')"
   ]
  },
  {
   "cell_type": "code",
   "execution_count": null,
   "id": "9131fba1",
   "metadata": {
    "scrolled": true
   },
   "outputs": [],
   "source": [
    "html_page = urllib2.urlopen(\"http://bioguide.congress.gov/biosearch/biosearch1.asp\")"
   ]
  },
  {
   "cell_type": "code",
   "execution_count": null,
   "id": "2b4c3f71",
   "metadata": {},
   "outputs": [],
   "source": [
    "soup = BeautifulSoup(html_page)\n",
    "for link in soup.findAll('a', attrs={'href': re.compile(\"^http://\")}):\n",
    "    print link.get('href')"
   ]
  },
  {
   "cell_type": "code",
   "execution_count": null,
   "id": "1cfe6027",
   "metadata": {},
   "outputs": [],
   "source": [
    "url = 'http://bioguide.congress.gov/biosearch/biosearch1.asp'\n",
    "reqs = requests.get(url)\n",
    "soup = BeautifulSoup(reqs.text, 'html.parser')\n",
    " \n",
    "urls = []\n",
    "for link in soup.find_all('a'):\n",
    "    print(link.get('href'))"
   ]
  },
  {
   "cell_type": "code",
   "execution_count": null,
   "id": "e54a162e",
   "metadata": {},
   "outputs": [],
   "source": []
  }
 ],
 "metadata": {
  "kernelspec": {
   "display_name": "Python 3 (ipykernel)",
   "language": "python",
   "name": "python3"
  },
  "language_info": {
   "codemirror_mode": {
    "name": "ipython",
    "version": 3
   },
   "file_extension": ".py",
   "mimetype": "text/x-python",
   "name": "python",
   "nbconvert_exporter": "python",
   "pygments_lexer": "ipython3",
   "version": "3.9.7"
  }
 },
 "nbformat": 4,
 "nbformat_minor": 5
}
