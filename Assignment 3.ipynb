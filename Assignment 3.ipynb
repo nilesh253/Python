{
 "cells": [
  {
   "cell_type": "code",
   "execution_count": 1,
   "id": "86549f57",
   "metadata": {},
   "outputs": [],
   "source": [
    "'''1.A Robot moves in a Plane starting from the origin point (0,0). \n",
    "The robot can move toward UP, DOWN, LEFT, RIGHT. The trace of Robot\n",
    "movement is as given following:\n",
    "UP 5 DOWN 3 LEFT 3 RIGHT 2\n",
    "(The numbers after directions are steps)\n",
    "Write a program to compute thecurrent distance from the origin point\n",
    "after sequencing of movements.Hint: Use math module\n",
    "'''\n",
    "\n",
    "\n",
    "\n",
    "import math\n",
    "x,y=0,0\n",
    "while True:\n",
    "    step_direc=input(\"Enter in which direction to move 'if not then just press enter': \")\n",
    "    if step_direc ==\"\":\n",
    "        break\n",
    "   # print()   \n",
    "    dist=input(\"Enter how much distance to travel : \")\n",
    "\n",
    "    # Or we can use .split() and then convert the input into integer by using  int() if input as UP 5 DOWN 3 LEFT 3 RIGHT 2.\n",
    "    \n",
    "    if step_direc==\"up\" or step_direc== \"UP\" or step_direc==\"Up\":\n",
    "        y+=int(dist)\n",
    "    elif step_direc==\"down\" or step_direc== \"DOWN\" or step_direc==\"Down\":\n",
    "        y-=int(dist)\n",
    "    elif step_direc==\"left\" or step_direc==\"LEFT\" or step_direc==\"Left\":\n",
    "        x+=int(dist)\n",
    "    elif step_direc==\"right\" or step_direc==\"Right\" or step_direc==\"RIGHT\":\n",
    "        x-=int(dist)\n",
    "        \n",
    "c=math.sqrt(x**2+y**2)\n",
    "print(\"Required distance is : \",c)\n",
    "\n"
   ]
  },
  {
   "cell_type": "code",
   "execution_count": 16,
   "id": "afe0067d",
   "metadata": {},
   "outputs": [
    {
     "name": "stdout",
     "output_type": "stream",
     "text": [
      "Enter the name to check that is present in list or not : Yash\n",
      "Yash\n",
      "\n",
      "Reena  \n",
      "Prabhas  \n",
      "Reena  \n",
      "Shreyansh  \n",
      "Yash  \n",
      "\n",
      "\n",
      "\n",
      "Aman  \n",
      "Prabhas  \n",
      "Reena  \n",
      "Shreyansh  \n",
      "Yash  \n"
     ]
    }
   ],
   "source": [
    "'''\n",
    "2.Data of XYZ company is stored in a sorted list. Write a program to search for \n",
    "specific data from that list.\n",
    "Hint: Use if/elifto deal with conditions.\n",
    "'''\n",
    "\n",
    "\n",
    "xyz = [\"Reena\", \"Yash\", \"Prabhas\", \"Shreyansh\", \"Aman\"]\n",
    "specific=input(\"Enter the name to check that is present in list or not : \")\n",
    "if specific in xyz:\n",
    "    print(specific)\n",
    "    print()\n",
    "    \n",
    "for Item in xyz:\n",
    "    print(Item, end=\"  \")\n",
    "    print()\n",
    "    xyz.sort()\n",
    "print('\\n\\n')    \n",
    "for Item in xyz:\n",
    "    print(Item, end=\"  \")\n",
    "    print()\n",
    "\n",
    "\n"
   ]
  },
  {
   "cell_type": "code",
   "execution_count": 17,
   "id": "99cc1d1e",
   "metadata": {},
   "outputs": [
    {
     "name": "stdout",
     "output_type": "stream",
     "text": [
      "It is night-time\n"
     ]
    }
   ],
   "source": [
    "'''\n",
    "    3.A weather forecasting organization wants to show whether it is day or night.\n",
    "    Write a program to find whether is it dark outside or notbased on the local system time.\n",
    "    Hint: Use time module.\n",
    "'''\n",
    "\n",
    "import time\n",
    "mytime = time.localtime()\n",
    "if mytime.tm_hour < 6 or mytime.tm_hour > 18:\n",
    "    print ('It is night-time')\n",
    "else:\n",
    "    print ('It is day-time')"
   ]
  },
  {
   "cell_type": "code",
   "execution_count": 21,
   "id": "dcd7f573",
   "metadata": {},
   "outputs": [
    {
     "name": "stdout",
     "output_type": "stream",
     "text": [
      "2.0043678382716137 K.M\n"
     ]
    }
   ],
   "source": [
    "'''\n",
    "    4.Write a program to find distance between two locations when their latitude and longitudes are given.\n",
    "    Hint: Use math module.\n",
    "'''\n",
    "\n",
    "from math import radians, cos, sin, asin, sqrt\n",
    "def distance(lat1, lat2, lon1, lon2):\n",
    "    \n",
    "    lon1 = radians(lon1)\n",
    "    lon2 = radians(lon2)\n",
    "    lat1 = radians(lat1)\n",
    "    lat2 = radians(lat2)\n",
    "      \n",
    "    # Haversine formula\n",
    "    dlon = lon2 - lon1\n",
    "    dlat = lat2 - lat1\n",
    "    a = sin(dlat / 2)**2 + cos(lat1) * cos(lat2) * sin(dlon / 2)**2\n",
    " \n",
    "    c = 2 * asin(sqrt(a))\n",
    "    \n",
    "    r = 6371\n",
    "    \n",
    "    return(c * r)\n",
    "    \n",
    "lat1 = 53.32055555555556\n",
    "lat2 = 53.31861111111111\n",
    "lon1 = -1.7297222222222221\n",
    "lon2 =  -1.6997222222222223\n",
    "print(distance(lat1, lat2, lon1, lon2), \"K.M\")\n"
   ]
  },
  {
   "cell_type": "code",
   "execution_count": 4,
   "id": "4576ee38",
   "metadata": {},
   "outputs": [
    {
     "name": "stdout",
     "output_type": "stream",
     "text": [
      "Welcome to XYZ Bank\n",
      "Choose from below options\n",
      "1. Case withdrawal\n",
      "2. Cash credit\n",
      "3. Change password\n",
      "Enter your option:1\n",
      "Enter ATM or CARD PIN to proceed:123\n",
      "How much cash you want to withdrawl\n",
      "23782\n",
      "You have %d Rs. left 9999976218\n"
     ]
    }
   ],
   "source": [
    "def CashWithdrawal():\n",
    "    PIN=input('Enter ATM or CARD PIN to proceed:')\n",
    "    if PIN=='123':\n",
    "        print('How much cash you want to withdrawl')\n",
    "        money= input()\n",
    "        Amount=10000000000-int(money)\n",
    "        print(\"You have %d Rs. left\",Amount)\n",
    "    else:\n",
    "        print('You Have Enterd Invalid PIN. Try Again')\n",
    "\n",
    "def CashCredit():\n",
    "    PIN=input('Enter ATM or CARD PIN to proceed:')\n",
    "    if PIN=='123':\n",
    "        AMT=input('Enter Amount That You Wish to Credit To Bank:')\n",
    "        print('***Thank You For Banking With Us***')\n",
    "    else:\n",
    "        print('You Have Enterd Invalid PIN. Try Again')\n",
    "\n",
    "def ChangePassword():\n",
    "    PIN=input('Enter ATM or CARD PIN to proceed:')\n",
    "    if PIN=='123':\n",
    "        OLD_PWD=raw_input('Please Enter Your Old Password:')\n",
    "        print('***Thank You For Banking With Us***')\n",
    "    else:\n",
    "        print('You Have Enterd Invalid PIN. Try Again')\n",
    "\n",
    "def Main():\n",
    "    print('Welcome to XYZ Bank\\nChoose from below options')\n",
    "    print('1. Case withdrawal\\n2. Cash credit\\n3. Change password')\n",
    "    opt=input('Enter your option:')\n",
    "    if opt=='1' :\n",
    "        CashWithdrawal()\n",
    "    elif opt=='2' :\n",
    "        CashCredit()\n",
    "    elif opt=='3' :\n",
    "        ChangePassword()\n",
    "    else:\n",
    "        print(\"Enter the correct option.\")\n",
    "Main()"
   ]
  },
  {
   "cell_type": "code",
   "execution_count": 5,
   "id": "bfb42eb1",
   "metadata": {},
   "outputs": [
    {
     "name": "stdout",
     "output_type": "stream",
     "text": [
      "2002,2009,2016,2023,2037,2044,2051,2058,2072,2079,2086,2093,2107,2114,2121,2128,2142,2149,2156,2163,2177,2184,2191,2198,2212,2219,2226,2233,2247,2254,2261,2268,2282,2289,2296,2303,2317,2324,2331,2338,2352,2359,2366,2373,2387,2394,2401,2408,2422,2429,2436,2443,2457,2464,2471,2478,2492,2499,2506,2513,2527,2534,2541,2548,2562,2569,2576,2583,2597,2604,2611,2618,2632,2639,2646,2653,2667,2674,2681,2688,2702,2709,2716,2723,2737,2744,2751,2758,2772,2779,2786,2793,2807,2814,2821,2828,2842,2849,2856,2863,2877,2884,2891,2898,2912,2919,2926,2933,2947,2954,2961,2968,2982,2989,2996,3003,3017,3024,3031,3038,3052,3059,3066,3073,3087,3094,3101,3108,3122,3129,3136,3143,3157,3164,3171,3178,3192,3199\n"
     ]
    }
   ],
   "source": [
    "'''\n",
    "        6.   Write a program which will find all numbers which are divisible by 7 but are nota multiple  of  5,\n",
    "             between  2000  and  3200  (both  included).  The  numbers  obtained should be printed in a \n",
    "             comma-separated sequence on a single line.\n",
    "'''\n",
    "\n",
    "lst=[]\n",
    "for x in range(2000, 3200):\n",
    "    if (x%7==0) and (x%5!=0):\n",
    "        lst.append(str(x))\n",
    "print (','.join(lst))"
   ]
  },
  {
   "cell_type": "code",
   "execution_count": 8,
   "id": "e818545b",
   "metadata": {},
   "outputs": [
    {
     "name": "stdout",
     "output_type": "stream",
     "text": [
      "Enter the number whose factorial is required : 5\n",
      "The factorial of 5 is 120\n"
     ]
    }
   ],
   "source": [
    "'''\n",
    "    7.Write a program which can compute the factorial of a given numbers. Use recursion to find it.\n",
    "'''\n",
    "\n",
    "def recur_fact(n):\n",
    "   if n == 1:\n",
    "       return n\n",
    "   else:\n",
    "       return n*recur_fact(n-1)\n",
    "\n",
    "num = input(\"Enter the number whose factorial is required : \")\n",
    "num= int(num)\n",
    "\n",
    "if num < 0:\n",
    "   print(\"Sorry, factorial does not exist for negative numbers\")\n",
    "elif num == 0:\n",
    "   print(\"The factorial of 0 is 1\")\n",
    "else:\n",
    "   print(\"The factorial of\", num, \"is\", recur_fact(num))"
   ]
  },
  {
   "cell_type": "code",
   "execution_count": 10,
   "id": "fbc087f2",
   "metadata": {},
   "outputs": [
    {
     "name": "stdout",
     "output_type": "stream",
     "text": [
      "Enter the value of D: 100,150,180\n",
      "[18, 22, 24]\n"
     ]
    }
   ],
   "source": [
    "'''\n",
    "    Write a program that calculates and prints the value according to the given formula:\n",
    "    Q = Square root of [(2 * C * D)/H]\n",
    "    Following are the fixed values of C and H:\n",
    "    C is 50. H is 30.D  is  the  variable  whose  values  should  be  input  to  your\n",
    "    program  in  a  comma-separated sequence. Example:Let  us  assume  the  following  \n",
    "    comma  separated  input  sequence  is  given  to  the program:\n",
    "    100,150,180\n",
    "    The output of the program should be:\n",
    "    18,22,24\n",
    "'''\n",
    "\n",
    "\n",
    "import math\n",
    "\n",
    "numbers = input(\"Enter the value of D: \")\n",
    "numbers = numbers.split(',')\n",
    "\n",
    "result_list = []\n",
    "for D in numbers:\n",
    "    Q = round(math.sqrt(2 * 50 * int(D) / 30))\n",
    "    result_list.append(Q)\n",
    "\n",
    "print(result_list)\n"
   ]
  },
  {
   "cell_type": "code",
   "execution_count": 14,
   "id": "f2353ac8",
   "metadata": {},
   "outputs": [
    {
     "name": "stdout",
     "output_type": "stream",
     "text": [
      "Input number of rows: 2\n",
      "Input number of columns: 2\n",
      "[[0, 0], [0, 1]]\n"
     ]
    }
   ],
   "source": [
    "'''\n",
    "    9.Write a program which takes 2 digits, X, Y as input and generates a 2-dimensional array. \n",
    "    The element value in the i-th row and j-th column of the array should be i*j.\n",
    "    Note: i=0,1.., X-1; j=0,1,¡-Y-1\n",
    "'''\n",
    "\n",
    "\n",
    "row_num = int(input(\"Input number of rows: \"))\n",
    "col_num = int(input(\"Input number of columns: \"))\n",
    "matrix = [[0 for col in range(col_num)] for row in range(row_num)]\n",
    "\n",
    "for row in range(row_num):\n",
    "    for col in range(col_num):\n",
    "        matrix[row][col]= row*col\n",
    "\n",
    "print(matrix)"
   ]
  },
  {
   "cell_type": "code",
   "execution_count": 16,
   "id": "f0d06ea7",
   "metadata": {},
   "outputs": [
    {
     "name": "stdout",
     "output_type": "stream",
     "text": [
      "Input words: without,hello,bag,world\n",
      "bag, hello, without, world\n"
     ]
    }
   ],
   "source": [
    "'''\n",
    "    10.Write a program that accepts a comma separated sequence of words as input and prints the words\n",
    "    in a comma-separated sequence after sorting them alphabetically. Suppose the following input is\n",
    "    supplied to the program:\n",
    "    without,hello,bag,world\n",
    "    Then, the output should be:\n",
    "    bag,hello,without,world\n",
    "'''\n",
    "\n",
    "strg = input(\"Input words: \")\n",
    "\n",
    "strg_list = strg.split(\",\")\n",
    "strg_list.sort()\n",
    "print((', ').join(strg_list))"
   ]
  },
  {
   "cell_type": "code",
   "execution_count": 20,
   "id": "f0573f41",
   "metadata": {},
   "outputs": [
    {
     "name": "stdout",
     "output_type": "stream",
     "text": [
      "Hello world Practice makes perfect\n",
      "\n",
      "HELLO WORLD PRACTICE MAKES PERFECT\n"
     ]
    }
   ],
   "source": [
    "'''\n",
    "    \n",
    "    11.Write a program that accepts sequence of lines as input and prints the lines after making all\n",
    "    characters in the sentence capitalized. Suppose the following input is supplied to the program:\n",
    "    •Hello world•Practice makes perfect\n",
    "    Then, the output should be:\n",
    "    •HELLO WORLD•PRACTICE MAKES PERFECT\n",
    "'''\n",
    "\n",
    "\n",
    "lines = []\n",
    "while True:\n",
    "    l = input()\n",
    "    if l:\n",
    "        lines.append(l.upper())\n",
    "    else:\n",
    "        break;\n",
    "\n",
    "for l in lines:\n",
    "    print(l)\n"
   ]
  },
  {
   "cell_type": "code",
   "execution_count": 21,
   "id": "014512fe",
   "metadata": {},
   "outputs": [
    {
     "name": "stdout",
     "output_type": "stream",
     "text": [
      "Type in: hello world and practice makes perfect and hello world again\n",
      "again and hello makes perfect practice world\n"
     ]
    }
   ],
   "source": [
    "'''\n",
    "    12.Write a program that accepts a sequence of whitespace separated words as input and \n",
    "    prints   the   words   after   removing   all   duplicate   words   and   sorting \n",
    "    them alphanumerically. Suppose the following input issupplied to the program:\n",
    "    hello world and practice makes perfect and hello world again\n",
    "    Then, the output should be:\n",
    "    again and hello makes perfect practice world\n",
    "'''\n",
    "\n",
    "strg = input(\"Type in: \")\n",
    "strg_splited = strg.split(' ')\n",
    "\n",
    "strg_list = []\n",
    "for i in strg_splited:\n",
    "    if i not in strg_list:\n",
    "        strg_list.append(i)\n",
    "    else:\n",
    "        continue\n",
    "strg_list.sort()\n",
    "print((' ').join(strg_list))"
   ]
  },
  {
   "cell_type": "code",
   "execution_count": 22,
   "id": "1fb72a4c",
   "metadata": {},
   "outputs": [
    {
     "name": "stdout",
     "output_type": "stream",
     "text": [
      "0100,0011,1010,1001\n",
      "1010\n"
     ]
    }
   ],
   "source": [
    "'''\n",
    "    13.Write  a  program  which  accepts  a  sequence  of  comma  separated 4-digit binary numbers\n",
    "    as  its  input  and  then  check  whether  they  are  divisible  by  5  or  not. \n",
    "    The numbers that are divisible by 5 are to be printed in a comma separated sequence.\n",
    "    Example:0100,0011,1010,1001\n",
    "    Then the output should be:1010\n",
    "'''\n",
    "\n",
    "items = []\n",
    "num = [x for x in input().split(',')]\n",
    "for p in num:\n",
    "    x = int(p, 2)\n",
    "    if not x%5:\n",
    "        items.append(p)\n",
    "print(','.join(items))"
   ]
  },
  {
   "cell_type": "code",
   "execution_count": 6,
   "id": "8605512a",
   "metadata": {},
   "outputs": [
    {
     "name": "stdout",
     "output_type": "stream",
     "text": [
      "Please enter the string: \"Hello world!\"\n",
      "No. of Upper case characters : 1\n",
      "No. of Lower case characters : 9\n"
     ]
    }
   ],
   "source": [
    "'''\n",
    "    14.Write  a  program  that  accepts  a  sentence  and  calculate  the  number  of upper-caseletters\n",
    "    and lower case letters.Suppose the following input is supplied to the program:\n",
    "    Hello world!\n",
    "    Then, the output should be:\n",
    "    UPPER CASE 1\n",
    "    LOWER CASE 9\n",
    "'''\n",
    "\n",
    "\n",
    "def up_low():    \n",
    "    s = input(\"Please enter the string: \")\n",
    "    u = sum(1 for i in s if i.isupper())\n",
    "    l = sum(1 for i in s if i.islower())\n",
    "    print( \"No. of Upper case characters : %s\\nNo. of Lower case characters : %s\" % (u,l))\n",
    "\n",
    "up_low()"
   ]
  },
  {
   "cell_type": "code",
   "execution_count": 12,
   "id": "49a6fd87",
   "metadata": {},
   "outputs": [
    {
     "name": "stdout",
     "output_type": "stream",
     "text": [
      "15.0\n",
      "\n",
      "\n",
      "\n",
      "15\n"
     ]
    }
   ],
   "source": [
    "# 15.Give example of fsum and sum function of math library.\n",
    "\n",
    "\n",
    "#fsum\n",
    "import math\n",
    "\n",
    "print(math.fsum([1, 2, 3, 4, 5]))\n",
    "\n",
    "\n",
    "print('\\n\\n')\n",
    "\n",
    "#Sum\n",
    "\n",
    "print(sum([1, 2, 3, 4, 5]))"
   ]
  },
  {
   "cell_type": "code",
   "execution_count": null,
   "id": "aa54cca8",
   "metadata": {},
   "outputs": [],
   "source": []
  }
 ],
 "metadata": {
  "kernelspec": {
   "display_name": "Python 3 (ipykernel)",
   "language": "python",
   "name": "python3"
  },
  "language_info": {
   "codemirror_mode": {
    "name": "ipython",
    "version": 3
   },
   "file_extension": ".py",
   "mimetype": "text/x-python",
   "name": "python",
   "nbconvert_exporter": "python",
   "pygments_lexer": "ipython3",
   "version": "3.10.2"
  }
 },
 "nbformat": 4,
 "nbformat_minor": 5
}
